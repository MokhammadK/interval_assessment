{
 "cells": [
  {
   "cell_type": "code",
   "execution_count": 2,
   "id": "0b7c848d",
   "metadata": {},
   "outputs": [],
   "source": [
    "n = 20\n",
    "y = 0,95"
   ]
  },
  {
   "cell_type": "markdown",
   "id": "5c1b9110",
   "metadata": {},
   "source": [
    "| xi | 1 | 2 | 4 | 6 | 7 |\n",
    "|----|---|---|---|---|---|\n",
    "| ni | 2 | 3 | 10| 3 | 2 | \n",
    "\n"
   ]
  },
  {
   "cell_type": "code",
   "execution_count": 17,
   "id": "6d7556ed",
   "metadata": {},
   "outputs": [
    {
     "name": "stdout",
     "output_type": "stream",
     "text": [
      "4.0\n",
      "1.7770466332772772\n"
     ]
    }
   ],
   "source": [
    "import numpy as np\n",
    "\n",
    "xi = np.array([1, 2, 4, 6, 7])\n",
    "ni = np.array([2, 3, 10, 3, 2])\n",
    "\n",
    "x̄ = np.sum(xi * ni) / np.sum(ni)\n",
    "s = np.sqrt(np.sum(ni * (xi - x̄)**2) / (np.sum(ni) - 1))\n",
    "\n",
    "print(x̄)\n",
    "print(s)"
   ]
  },
  {
   "cell_type": "code",
   "execution_count": 18,
   "id": "ce5b373d",
   "metadata": {},
   "outputs": [
    {
     "name": "stdout",
     "output_type": "stream",
     "text": [
      "19\n"
     ]
    }
   ],
   "source": [
    "df = np.sum(ni) - 1\n",
    "print(df)"
   ]
  },
  {
   "cell_type": "code",
   "execution_count": 14,
   "id": "904a19d5",
   "metadata": {},
   "outputs": [
    {
     "name": "stdout",
     "output_type": "stream",
     "text": [
      "8.906516481987973\n",
      "32.85232686172969\n"
     ]
    }
   ],
   "source": [
    "from scipy.stats import chi2\n",
    "\n",
    "у = 0.95\n",
    "\n",
    "χ2_lower = chi2.ppf((1 - у) / 2, df)\n",
    "χ2_upper = chi2.ppf((1 + у) / 2, df)\n",
    "\n",
    "print(χ2_lower)\n",
    "print(χ2_upper)"
   ]
  },
  {
   "cell_type": "code",
   "execution_count": 19,
   "id": "0bb94d9e",
   "metadata": {},
   "outputs": [
    {
     "name": "stdout",
     "output_type": "stream",
     "text": [
      "1.3514268948836121\n",
      "2.5955039086259424\n"
     ]
    }
   ],
   "source": [
    "lower_bound = np.sqrt((df * s**2) / χ2_upper)\n",
    "upper_bound = np.sqrt((df * s**2) / χ2_lower)\n",
    "\n",
    "print(lower_bound)\n",
    "print(upper_bound)"
   ]
  },
  {
   "cell_type": "code",
   "execution_count": 21,
   "id": "f5e6aedf",
   "metadata": {},
   "outputs": [
    {
     "name": "stdout",
     "output_type": "stream",
     "text": [
      "0.4\n"
     ]
    }
   ],
   "source": [
    "t = 40\n",
    "n = 100\n",
    "p̂ = t / n\n",
    "print(p̂)"
   ]
  },
  {
   "cell_type": "code",
   "execution_count": 22,
   "id": "68d021b8",
   "metadata": {},
   "outputs": [
    {
     "name": "stdout",
     "output_type": "stream",
     "text": [
      "0.04898979485566356\n"
     ]
    }
   ],
   "source": [
    "SE = np.sqrt((p̂ * (1 - p̂)) / n)\n",
    "print(SE)"
   ]
  },
  {
   "cell_type": "code",
   "execution_count": 23,
   "id": "044db998",
   "metadata": {},
   "outputs": [
    {
     "name": "stdout",
     "output_type": "stream",
     "text": [
      "1.959963984540054\n"
     ]
    }
   ],
   "source": [
    "from scipy.stats import norm\n",
    "\n",
    "у = 0.95\n",
    "\n",
    "z_critical = norm.ppf((1 + у) / 2)\n",
    "print(z_critical)"
   ]
  },
  {
   "cell_type": "code",
   "execution_count": 24,
   "id": "ca518423",
   "metadata": {},
   "outputs": [
    {
     "name": "stdout",
     "output_type": "stream",
     "text": [
      "0.3039817664728938\n",
      "0.4960182335271062\n"
     ]
    }
   ],
   "source": [
    "lower_bound = p̂ - z_critical * SE\n",
    "upper_bound = p̂ + z_critical * SE\n",
    "\n",
    "print(lower_bound)\n",
    "print(upper_bound)"
   ]
  },
  {
   "cell_type": "code",
   "execution_count": 26,
   "id": "40d109fd",
   "metadata": {},
   "outputs": [
    {
     "name": "stdout",
     "output_type": "stream",
     "text": [
      "165\n"
     ]
    }
   ],
   "source": [
    "from scipy.stats import norm\n",
    "\n",
    "у = 0.99\n",
    "E = 0.6\n",
    "σ = 3\n",
    "\n",
    "z = norm.ppf((1 + у) / 2)\n",
    "n = int((z * σ / E)**2)\n",
    "\n",
    "print(n)"
   ]
  }
 ],
 "metadata": {
  "kernelspec": {
   "display_name": "Python 3 (ipykernel)",
   "language": "python",
   "name": "python3"
  },
  "language_info": {
   "codemirror_mode": {
    "name": "ipython",
    "version": 3
   },
   "file_extension": ".py",
   "mimetype": "text/x-python",
   "name": "python",
   "nbconvert_exporter": "python",
   "pygments_lexer": "ipython3",
   "version": "3.9.13"
  }
 },
 "nbformat": 4,
 "nbformat_minor": 5
}
